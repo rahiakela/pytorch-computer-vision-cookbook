{
  "nbformat": 4,
  "nbformat_minor": 0,
  "metadata": {
    "colab": {
      "name": "1-binary-image-classification.ipynb",
      "provenance": [],
      "authorship_tag": "ABX9TyOXIEnM4Pfd1Cyui4Y3x/3/",
      "include_colab_link": true
    },
    "kernelspec": {
      "name": "python3",
      "display_name": "Python 3"
    },
    "accelerator": "GPU"
  },
  "cells": [
    {
      "cell_type": "markdown",
      "metadata": {
        "id": "view-in-github",
        "colab_type": "text"
      },
      "source": [
        "<a href=\"https://colab.research.google.com/github/rahiakela/pytorch-computer-vision-cookbook/blob/main/2-binary-image-classification/1_binary_image_classification.ipynb\" target=\"_parent\"><img src=\"https://colab.research.google.com/assets/colab-badge.svg\" alt=\"Open In Colab\"/></a>"
      ]
    },
    {
      "cell_type": "markdown",
      "metadata": {
        "id": "FIywrydnXqhP"
      },
      "source": [
        "# Binary Image Classification"
      ]
    },
    {
      "cell_type": "markdown",
      "metadata": {
        "id": "tQim9vPEXrfG"
      },
      "source": [
        "Image classification (also called image recognition) is an important task in computer vision. In this task, we assume that images contain one main object. Here, our goal is to classify the main object. There are two types of image classification: **binary classification and multi-class classification**.\n",
        "\n",
        "The goal of binary image classification is to classify images into two categories. For instance, we may want to know if a medical image is normal or malignant. The images could be grayscale with one channel or color image with three channels.\n",
        "\n",
        "In this notebook, we'll also learn how to create an algorithm to identify metastatic cancer in small image patches taken from larger digital pathology scans.\n",
        "\n",
        "In particular, we will cover the following recipes:\n",
        "- **Exploring the dataset**\n",
        "- **Creating a custom dataset**\n",
        "- **Splitting the dataset**\n",
        "- **Transforming the data**\n",
        "- **Creating dataloaders**\n",
        "- **Building the classification model**\n",
        "- **Defining the loss function**\n",
        "- **Defining the optimizer**\n",
        "- **Training and evaluation of the model**\n",
        "- **Deploying the model**\n",
        "- **Model inference on test data**"
      ]
    },
    {
      "cell_type": "markdown",
      "metadata": {
        "id": "yEKmTc_NY9cZ"
      },
      "source": [
        "## Setup"
      ]
    },
    {
      "cell_type": "code",
      "metadata": {
        "id": "roHsVkBAY-2l"
      },
      "source": [
        "import pandas as pd \n",
        "import matplotlib.pylab as plt\n",
        "from PIL import Image, ImageDraw\n",
        "import numpy as np\n",
        "import copy\n",
        "import os\n",
        "\n",
        "import torch\n",
        "from torch.utils.data import Dataset, random_split, DataLoader\n",
        "import torchvision.transforms as transforms\n",
        "from torchvision import utils\n",
        "import torch.nn as nn\n",
        "import torch.nn.functional as F\n",
        "from torchsummary import summary\n",
        "from torch import optim\n",
        "from torch.optim.lr_scheduler import ReduceLROnPlateau\n",
        "\n",
        "np.random.seed(0)\n",
        "\n",
        "%matplotlib inline"
      ],
      "execution_count": null,
      "outputs": []
    }
  ]
}