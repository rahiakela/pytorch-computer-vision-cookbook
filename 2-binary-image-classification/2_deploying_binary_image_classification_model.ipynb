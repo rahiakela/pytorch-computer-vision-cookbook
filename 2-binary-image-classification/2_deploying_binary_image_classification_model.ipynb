{
  "nbformat": 4,
  "nbformat_minor": 0,
  "metadata": {
    "colab": {
      "name": "2-deploying-binary-image-classification-model.ipynb",
      "provenance": [],
      "toc_visible": true,
      "authorship_tag": "ABX9TyMli/du6P5+eQyeHVH7Z/RJ",
      "include_colab_link": true
    },
    "kernelspec": {
      "name": "python3",
      "display_name": "Python 3"
    },
    "accelerator": "GPU"
  },
  "cells": [
    {
      "cell_type": "markdown",
      "metadata": {
        "id": "view-in-github",
        "colab_type": "text"
      },
      "source": [
        "<a href=\"https://colab.research.google.com/github/rahiakela/pytorch-computer-vision-cookbook/blob/main/2-binary-image-classification/2_deploying_binary_image_classification_model.ipynb\" target=\"_parent\"><img src=\"https://colab.research.google.com/assets/colab-badge.svg\" alt=\"Open In Colab\"/></a>"
      ]
    },
    {
      "cell_type": "markdown",
      "metadata": {
        "id": "FIywrydnXqhP"
      },
      "source": [
        "# Deploying Binary Image Classification model"
      ]
    },
    {
      "cell_type": "markdown",
      "metadata": {
        "id": "tQim9vPEXrfG"
      },
      "source": [
        "Image classification (also called image recognition) is an important task in computer vision. In this task, we assume that images contain one main object. Here, our goal is to classify the main object. There are two types of image classification: **binary classification and multi-class classification**.\n",
        "\n",
        "The goal of binary image classification is to classify images into two categories. For instance, we may want to know if a medical image is normal or malignant. The images could be grayscale with one channel or color image with three channels.\n",
        "\n",
        "In this notebook, we'll also learn how to create an algorithm to identify metastatic cancer in small image patches taken from larger digital pathology scans.\n",
        "\n",
        "In particular, we will cover the following recipes:\n",
        "- **Exploring the dataset**\n",
        "- **Creating a custom dataset**\n",
        "- **Splitting the dataset**\n",
        "- **Transforming the data**\n",
        "- **Creating dataloaders**\n",
        "- **Building the classification model**\n",
        "- **Defining the loss function**\n",
        "- **Defining the optimizer**\n",
        "- **Training and evaluation of the model**\n",
        "- **Deploying the model**\n",
        "- **Model inference on test data**\n",
        "\n",
        "\n",
        "After training model, now we want to deploy the model for inference but the model and weights do not exist in memory. Therefore, we need to construct an object of the model class and load the weights into the model."
      ]
    },
    {
      "cell_type": "markdown",
      "metadata": {
        "id": "yEKmTc_NY9cZ"
      },
      "source": [
        "## Setup"
      ]
    },
    {
      "cell_type": "code",
      "metadata": {
        "id": "roHsVkBAY-2l"
      },
      "source": [
        "import pandas as pd \n",
        "import matplotlib.pylab as plt\n",
        "from PIL import Image, ImageDraw\n",
        "import numpy as np\n",
        "import copy\n",
        "import os\n",
        "\n",
        "import torch\n",
        "from torch.utils.data import Dataset, random_split, DataLoader\n",
        "import torchvision.transforms as transforms\n",
        "from torchvision import utils\n",
        "import torch.nn as nn\n",
        "import torch.nn.functional as F\n",
        "from torchsummary import summary\n",
        "from torch import optim\n",
        "from torch.optim.lr_scheduler import ReduceLROnPlateau\n",
        "\n",
        "from sklearn.metrics import accuracy_score\n",
        "\n",
        "np.random.seed(0)\n",
        "\n",
        "%matplotlib inline"
      ],
      "execution_count": 27,
      "outputs": []
    },
    {
      "cell_type": "markdown",
      "metadata": {
        "id": "V1N4eCHjcFqC"
      },
      "source": [
        "## Load dataset from Kaggle"
      ]
    },
    {
      "cell_type": "code",
      "metadata": {
        "id": "fU9upq45LlQe"
      },
      "source": [
        "!pip uninstall -y kaggle\r\n",
        "!pip install --upgrade pip\r\n",
        "!pip install kaggle==1.5.6\r\n",
        "!kaggle -v"
      ],
      "execution_count": null,
      "outputs": []
    },
    {
      "cell_type": "code",
      "metadata": {
        "id": "rgxTupz-bOmX",
        "colab": {
          "resources": {
            "http://localhost:8080/nbextensions/google.colab/files.js": {
              "data": "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",
              "ok": true,
              "headers": [
                [
                  "content-type",
                  "application/javascript"
                ]
              ],
              "status": 200,
              "status_text": ""
            }
          },
          "base_uri": "https://localhost:8080/",
          "height": 56
        },
        "outputId": "180b869d-96ce-40e7-ec8f-c29ad4d84fc8"
      },
      "source": [
        "from google.colab import files\n",
        "files.upload() # upload kaggle.json file"
      ],
      "execution_count": 3,
      "outputs": [
        {
          "output_type": "display_data",
          "data": {
            "text/html": [
              "\n",
              "     <input type=\"file\" id=\"files-c88bd12f-3f0a-4645-ad43-15344a07c425\" name=\"files[]\" multiple disabled\n",
              "        style=\"border:none\" />\n",
              "     <output id=\"result-c88bd12f-3f0a-4645-ad43-15344a07c425\">\n",
              "      Upload widget is only available when the cell has been executed in the\n",
              "      current browser session. Please rerun this cell to enable.\n",
              "      </output>\n",
              "      <script src=\"/nbextensions/google.colab/files.js\"></script> "
            ],
            "text/plain": [
              "<IPython.core.display.HTML object>"
            ]
          },
          "metadata": {
            "tags": []
          }
        },
        {
          "output_type": "execute_result",
          "data": {
            "text/plain": [
              "{}"
            ]
          },
          "metadata": {
            "tags": []
          },
          "execution_count": 3
        }
      ]
    },
    {
      "cell_type": "code",
      "metadata": {
        "id": "NOWorIprIEul"
      },
      "source": [
        "# copy kaggle.json file to .kaggle directory\r\n",
        "! cp kaggle.json ~/.kaggle/\r\n",
        "! chmod 600 /root/.kaggle/kaggle.json"
      ],
      "execution_count": 4,
      "outputs": []
    },
    {
      "cell_type": "code",
      "metadata": {
        "colab": {
          "base_uri": "https://localhost:8080/"
        },
        "id": "ZqimiJP8Lud4",
        "outputId": "d6706485-d036-485c-faaa-fd28f01444d1"
      },
      "source": [
        "# Try to downlaod data for the histopathologic-cancer-detection challenge.\r\n",
        "!kaggle competitions download -c histopathologic-cancer-detection"
      ],
      "execution_count": 5,
      "outputs": [
        {
          "output_type": "stream",
          "text": [
            "Downloading histopathologic-cancer-detection.zip to /content\n",
            "100% 6.30G/6.31G [02:19<00:00, 38.0MB/s]\n",
            "100% 6.31G/6.31G [02:19<00:00, 48.6MB/s]\n"
          ],
          "name": "stdout"
        }
      ]
    },
    {
      "cell_type": "code",
      "metadata": {
        "id": "g9_EQoqQLFDb"
      },
      "source": [
        "import os, shutil\r\n",
        "import zipfile\r\n",
        "\r\n",
        "# path to the directory where the original dataset was uncompressed\r\n",
        "original_dataset_dir = 'data'\r\n",
        "\r\n",
        "# remove directories if it already exists\r\n",
        "shutil.rmtree(original_dataset_dir, ignore_errors=True)\r\n",
        "\r\n",
        "# create directories\r\n",
        "os.mkdir(original_dataset_dir)\r\n",
        "\r\n",
        "# unzip dataset\r\n",
        "with zipfile.ZipFile(\"histopathologic-cancer-detection.zip\",\"r\") as zip_ref:\r\n",
        "    zip_ref.extractall(original_dataset_dir)"
      ],
      "execution_count": 6,
      "outputs": []
    },
    {
      "cell_type": "code",
      "metadata": {
        "id": "eqDAht-CMiqS"
      },
      "source": [
        "# delete the zip file\r\n",
        "!rm -rf histopathologic-cancer-detection.zip"
      ],
      "execution_count": 7,
      "outputs": []
    },
    {
      "cell_type": "markdown",
      "metadata": {
        "id": "T_3oeC0b-Mfq"
      },
      "source": [
        "## Model deployment"
      ]
    },
    {
      "cell_type": "markdown",
      "metadata": {
        "id": "dWBN4Qq0-NPf"
      },
      "source": [
        "**Step-1**: We constructed an object of the model class. Don't forget to copy the Net class and the findConv2dOutShape function scripts into your new script. When we construct an object of the Net class, the weights are randomly initialized."
      ]
    },
    {
      "cell_type": "code",
      "metadata": {
        "id": "daCRvwJE-Cxo"
      },
      "source": [
        "def findConv2dOutShape(H_in, W_in, conv, pool=2):\r\n",
        "  #  get conv arguments\r\n",
        "  kernel_size = conv.kernel_size\r\n",
        "  stride = conv.stride\r\n",
        "  padding = conv.padding\r\n",
        "  dilation = conv.dilation\r\n",
        "\r\n",
        "  # Ref: https://pytorch.org/docs/stable/nn.html\r\n",
        "  H_out = np.floor((H_in + 2 * padding[0] - dilation[0] * (kernel_size[0] - 1) - 1) / stride[0] + 1)\r\n",
        "  W_out = np.floor((W_in + 2 * padding[1] - dilation[1] * (kernel_size[1] - 1) - 1) / stride[1] + 1)\r\n",
        "\r\n",
        "  if pool:\r\n",
        "    H_out /= pool\r\n",
        "    W_out /= pool\r\n",
        "  return int(H_out), int(W_out)"
      ],
      "execution_count": 8,
      "outputs": []
    },
    {
      "cell_type": "code",
      "metadata": {
        "id": "pifkCDQ0-5_X"
      },
      "source": [
        "# Define the Net class\r\n",
        "class Net(nn.Module):\r\n",
        "\r\n",
        "  def __init__(self, params):\r\n",
        "    super(Net, self).__init__()\r\n",
        "    C_in, H_in, W_in = params[\"input_shape\"]\r\n",
        "    init_f = params[\"initial_filters\"]\r\n",
        "    num_fc1 = params[\"num_fc1\"]\r\n",
        "    num_classes = params[\"num_classes\"]\r\n",
        "\r\n",
        "    self.dropout_rate = params[\"dropout_rate\"]\r\n",
        "\r\n",
        "    # For most layers, it is important to specify the number of inputs and outputs of the layer.\r\n",
        "    self.conv1 = nn.Conv2d(C_in, init_f, kernel_size=3)\r\n",
        "    h, w = findConv2dOutShape(H_in, W_in, self.conv1)\r\n",
        "\r\n",
        "    self.conv2 = nn.Conv2d(init_f, 2*init_f, kernel_size=3)\r\n",
        "    h, w = findConv2dOutShape(h, w, self.conv2)\r\n",
        "\r\n",
        "    self.conv3 = nn.Conv2d(2*init_f, 4*init_f, kernel_size=3)\r\n",
        "    h, w = findConv2dOutShape(h, w, self.conv3)\r\n",
        "\r\n",
        "    self.conv4 = nn.Conv2d(4*init_f, 8*init_f, kernel_size=3)\r\n",
        "    h, w = findConv2dOutShape(h, w, self.conv4)\r\n",
        "\r\n",
        "    # compute the flatten size\r\n",
        "    self.num_flatten = h * w * 8 * init_f\r\n",
        "\r\n",
        "    self.fc1 = nn.Linear(self.num_flatten, num_fc1)\r\n",
        "    self.fc2 = nn.Linear(num_fc1, num_classes)\r\n",
        "\r\n",
        "  def forward(self, x):\r\n",
        "    x = F.relu(self.conv1(x))\r\n",
        "    x = F.max_pool2d(x, 2, 2)\r\n",
        "\r\n",
        "    x = F.relu(self.conv2(x))\r\n",
        "    x = F.max_pool2d(x, 2, 2)\r\n",
        "\r\n",
        "    x = F.relu(self.conv3(x))\r\n",
        "    x = F.max_pool2d(x, 2, 2)\r\n",
        "\r\n",
        "    x = F.relu(self.conv4(x))\r\n",
        "    x = F.max_pool2d(x, 2, 2)\r\n",
        "\r\n",
        "    x = x.view(-1, self.num_flatten)\r\n",
        "\r\n",
        "    x = F.relu(self.fc1(x))\r\n",
        "    x = F.dropout(x, self.dropout_rate)\r\n",
        "    x = self.fc2(x)\r\n",
        "\r\n",
        "    return F.log_softmax(x, dim=1)"
      ],
      "execution_count": 9,
      "outputs": []
    },
    {
      "cell_type": "markdown",
      "metadata": {
        "id": "SYwT5bCR_Isx"
      },
      "source": [
        "**Step-2**: we loaded state_dict, which contains the model weights, into the model. For deployment, it is necessary to set the model in eval mode. This is important since some layers (such as dropout) perform differently in training and deployment modes. If a CUDA device is available, we should move the model onto it. Now, the model is ready to be deployed."
      ]
    },
    {
      "cell_type": "code",
      "metadata": {
        "id": "lBDy82RB5fzR"
      },
      "source": [
        "# dict to define model parameters\r\n",
        "params_model = {\r\n",
        "    \"input_shape\": (3, 96, 96),\r\n",
        "    \"initial_filters\": 8,\r\n",
        "    \"num_fc1\": 100,\r\n",
        "    \"dropout_rate\": 0.25,\r\n",
        "    \"num_classes\": 2\r\n",
        "}\r\n",
        "\r\n",
        "# create model\r\n",
        "cnn_model = Net(params_model)"
      ],
      "execution_count": 10,
      "outputs": []
    },
    {
      "cell_type": "markdown",
      "metadata": {
        "id": "yU-Ff5cX6kN2"
      },
      "source": [
        "**Step-2**: Let's load state_dict into the model."
      ]
    },
    {
      "cell_type": "code",
      "metadata": {
        "colab": {
          "base_uri": "https://localhost:8080/"
        },
        "id": "iTvnqyW7--XP",
        "outputId": "24952762-9fcb-40b5-ad48-f44cb00a5ddb"
      },
      "source": [
        "%%shell\r\n",
        "\r\n",
        "wget https://github.com/rahiakela/pytorch-computer-vision-cookbook/blob/main/2-binary-image-classification/weights.pt\r\n",
        "mkdir models\r\n",
        "cp weights.pt models"
      ],
      "execution_count": null,
      "outputs": [
        {
          "output_type": "stream",
          "text": [
            "--2020-12-28 07:17:09--  https://github.com/rahiakela/pytorch-computer-vision-cookbook/blob/main/2-binary-image-classification/weights.pt\n",
            "Resolving github.com (github.com)... 140.82.114.3\n",
            "Connecting to github.com (github.com)|140.82.114.3|:443... connected.\n",
            "HTTP request sent, awaiting response... 200 OK\n",
            "Length: unspecified [text/html]\n",
            "Saving to: ‘weights.pt’\n",
            "\n",
            "weights.pt              [ <=>                ]  82.66K  --.-KB/s    in 0.02s   \n",
            "\n",
            "2020-12-28 07:17:09 (4.51 MB/s) - ‘weights.pt’ saved [84648]\n",
            "\n",
            "mkdir: cannot create directory ‘models’: File exists\n"
          ],
          "name": "stdout"
        },
        {
          "output_type": "execute_result",
          "data": {
            "text/plain": [
              ""
            ]
          },
          "metadata": {
            "tags": []
          },
          "execution_count": 26
        }
      ]
    },
    {
      "cell_type": "code",
      "metadata": {
        "id": "_bFDIDJo6pP8",
        "colab": {
          "base_uri": "https://localhost:8080/"
        },
        "outputId": "b3802f8f-e536-46b6-af95-621659548800"
      },
      "source": [
        "weights_path = \"./models/weights.pt\"\r\n",
        "\r\n",
        "# load state_dict into model\r\n",
        "cnn_model.load_state_dict(torch.load(weights_path))"
      ],
      "execution_count": 12,
      "outputs": [
        {
          "output_type": "execute_result",
          "data": {
            "text/plain": [
              "<All keys matched successfully>"
            ]
          },
          "metadata": {
            "tags": []
          },
          "execution_count": 12
        }
      ]
    },
    {
      "cell_type": "markdown",
      "metadata": {
        "id": "cecvIKoO8MyR"
      },
      "source": [
        "**Step-3**: Set the model in eval mode:"
      ]
    },
    {
      "cell_type": "code",
      "metadata": {
        "id": "5SQqFADI8Jde",
        "colab": {
          "base_uri": "https://localhost:8080/"
        },
        "outputId": "4e0c2444-d7f2-4dfb-b3a0-b1fbff00a454"
      },
      "source": [
        "# set model in evaluation mode\r\n",
        "cnn_model.eval()"
      ],
      "execution_count": 13,
      "outputs": [
        {
          "output_type": "execute_result",
          "data": {
            "text/plain": [
              "Net(\n",
              "  (conv1): Conv2d(3, 8, kernel_size=(3, 3), stride=(1, 1))\n",
              "  (conv2): Conv2d(8, 16, kernel_size=(3, 3), stride=(1, 1))\n",
              "  (conv3): Conv2d(16, 32, kernel_size=(3, 3), stride=(1, 1))\n",
              "  (conv4): Conv2d(32, 64, kernel_size=(3, 3), stride=(1, 1))\n",
              "  (fc1): Linear(in_features=1024, out_features=100, bias=True)\n",
              "  (fc2): Linear(in_features=100, out_features=2, bias=True)\n",
              ")"
            ]
          },
          "metadata": {
            "tags": []
          },
          "execution_count": 13
        }
      ]
    },
    {
      "cell_type": "markdown",
      "metadata": {
        "id": "OkNJsDvTBUdX"
      },
      "source": [
        "**Step-4**: Move the model onto a CUDA device if one's available:"
      ]
    },
    {
      "cell_type": "code",
      "metadata": {
        "id": "7ZSGYKs3BYYk"
      },
      "source": [
        "# move model to cuda/gpu device\r\n",
        "if torch.cuda.is_available():\r\n",
        "    device = torch.device(\"cuda\")\r\n",
        "    cnn_model=cnn_model.to(device)"
      ],
      "execution_count": 14,
      "outputs": []
    },
    {
      "cell_type": "markdown",
      "metadata": {
        "id": "mUfK2E4AUByN"
      },
      "source": [
        "**Step-5**: Let's develop a helper function to deploy the model on a dataset.\r\n",
        "\r\n",
        "the helper function returns the model outputs and ground truth labels as NumPy\r\n",
        "arrays for the dataset. Also, the inference time per image on the CUDA device is estimated to be 0.74 ms. Later, we will see the inference time on the CPU device."
      ]
    },
    {
      "cell_type": "code",
      "metadata": {
        "id": "9ntxxm5rTplu"
      },
      "source": [
        "import time\r\n",
        "def deploy_model(model, dataset, device, num_classes=2, sanity_check=False):\r\n",
        "\r\n",
        "  len_data = len(dataset)\r\n",
        "\r\n",
        "  # initialize output tensor on CPU: due to GPU memory limits\r\n",
        "  y_out = torch.zeros(len_data, num_classes)\r\n",
        "\r\n",
        "  # initialize ground truth on CPU: due to GPU memory limits\r\n",
        "  y_gt = np.zeros((len_data), dtype=\"uint8\")\r\n",
        "\r\n",
        "  # move model to device\r\n",
        "  model = model.to(device)\r\n",
        "\r\n",
        "  elapsed_times = []\r\n",
        "  with torch.no_grad():\r\n",
        "    for i in range(len_data):\r\n",
        "      x, y = dataset[i]\r\n",
        "      y_gt[i] = y\r\n",
        "      start = time.time()\r\n",
        "      y_out[i] = model(x.unsqueeze(0).to(device))\r\n",
        "      elapsed = time.time() - start\r\n",
        "      elapsed_times.append(elapsed)\r\n",
        "\r\n",
        "      if sanity_check is True:\r\n",
        "        break\r\n",
        "\r\n",
        "  inference_time = np.mean(elapsed_times) * 1000\r\n",
        "  print(\"average inference time per image on %s: %.2f ms \" % (device, inference_time))\r\n",
        "\r\n",
        "  return y_out.numpy(), y_gt"
      ],
      "execution_count": 24,
      "outputs": []
    },
    {
      "cell_type": "code",
      "metadata": {
        "id": "YtzVjA-ZUSD1"
      },
      "source": [
        "# Don't forget to fix the random seed for reproducibility:\r\n",
        "torch.manual_seed(0)\r\n",
        "\r\n",
        "class HistoCancerDataset(Dataset):\r\n",
        "\r\n",
        "  def __init__(self, data_dir, transform, data_type=\"train\"):\r\n",
        "    # path to images\r\n",
        "    img_path = os.path.join(data_dir, data_type)\r\n",
        "    # get a list of images\r\n",
        "    self.filenames = os.listdir(img_path)\r\n",
        "    # get the full path to images\r\n",
        "    self.full_filenames = [os.path.join(img_path, f) for f in self.filenames]\r\n",
        "\r\n",
        "    # labels are in a csv file named train_labels.csv\r\n",
        "    csv_filename = data_type + \"_labels.csv\"\r\n",
        "    csv_labels_path = os.path.join(data_dir, csv_filename)\r\n",
        "    labels_df = pd.read_csv(csv_labels_path)\r\n",
        "\r\n",
        "    # set data frame index to id\r\n",
        "    labels_df.set_index(\"id\", inplace=True)\r\n",
        "\r\n",
        "    # obtain labels from data frame\r\n",
        "    self.labels = [labels_df.loc[filename[:-4]].values[0] for filename in self.filenames]\r\n",
        "    self.transform = transform\r\n",
        "\r\n",
        "  def __len__(self):\r\n",
        "    # return size of dataset\r\n",
        "    return len(self.full_filenames)\r\n",
        "\r\n",
        "  def __getitem__(self, idx):\r\n",
        "    # open image, apply transforms and return with label\r\n",
        "    image = Image.open(self.full_filenames[idx])\r\n",
        "    image = self.transform(image)\r\n",
        "\r\n",
        "    return image, self.labels[idx]"
      ],
      "execution_count": 36,
      "outputs": []
    },
    {
      "cell_type": "code",
      "metadata": {
        "id": "KmuiINnLFfJ7"
      },
      "source": [
        "data_transformer = transforms.Compose([transforms.ToTensor()])"
      ],
      "execution_count": 38,
      "outputs": []
    },
    {
      "cell_type": "code",
      "metadata": {
        "id": "T2_tnmNvFnrF",
        "outputId": "33259364-8ac2-4b3e-b5b4-bb0a81ab4d03",
        "colab": {
          "base_uri": "https://localhost:8080/"
        }
      },
      "source": [
        "data_dir = \"./data/\"\r\n",
        "histo_dataset = HistoCancerDataset(data_dir, data_transformer, \"train\")\r\n",
        "print(len(histo_dataset))"
      ],
      "execution_count": 39,
      "outputs": [
        {
          "output_type": "stream",
          "text": [
            "220025\n"
          ],
          "name": "stdout"
        }
      ]
    },
    {
      "cell_type": "code",
      "metadata": {
        "id": "TArywPPmGFnI",
        "outputId": "799f739f-b334-47c4-8168-1aea4554e1c7",
        "colab": {
          "base_uri": "https://localhost:8080/"
        }
      },
      "source": [
        "len_histo=len(histo_dataset)\r\n",
        "len_train=int(0.8*len_histo)\r\n",
        "len_val=len_histo-len_train\r\n",
        "\r\n",
        "train_ds,val_ds=random_split(histo_dataset,[len_train,len_val])\r\n",
        "\r\n",
        "print(\"train dataset length:\", len(train_ds))\r\n",
        "print(\"validation dataset length:\", len(val_ds))"
      ],
      "execution_count": 20,
      "outputs": [
        {
          "output_type": "stream",
          "text": [
            "train dataset length: 176020\n",
            "validation dataset length: 44005\n"
          ],
          "name": "stdout"
        }
      ]
    },
    {
      "cell_type": "markdown",
      "metadata": {
        "id": "5GL7pACpGPN3"
      },
      "source": [
        "**Step-6**: Let's use this function to deploy the model on the validation dataset."
      ]
    },
    {
      "cell_type": "code",
      "metadata": {
        "id": "se0Uy42bGTX7",
        "outputId": "7f71fc6a-b8ef-4b14-91f6-e1f3325b30ac",
        "colab": {
          "base_uri": "https://localhost:8080/"
        }
      },
      "source": [
        "y_out, y_gt = deploy_model(cnn_model, val_ds, device=device, sanity_check=False)\r\n",
        "print(y_out.shape, y_gt.shape)"
      ],
      "execution_count": 25,
      "outputs": [
        {
          "output_type": "stream",
          "text": [
            "average inference time per image on cuda: 0.85 ms \n",
            "(44005, 2) (44005,)\n"
          ],
          "name": "stdout"
        }
      ]
    },
    {
      "cell_type": "markdown",
      "metadata": {
        "id": "Gc33AHCuJg2y"
      },
      "source": [
        "**Step-7**: Let's calculate the accuracy of the model on the validation dataset using the predicted outputs:"
      ]
    },
    {
      "cell_type": "code",
      "metadata": {
        "id": "GoS3RtErJlKY",
        "outputId": "609ebe2a-47ae-4ac6-a5dd-9dd4d5c70931",
        "colab": {
          "base_uri": "https://localhost:8080/"
        }
      },
      "source": [
        "# get predictions\r\n",
        "y_pred = np.argmax(y_out, axis=1)\r\n",
        "print(y_pred.shape, y_gt.shape)\r\n",
        "\r\n",
        "# compute accuracy \r\n",
        "acc = accuracy_score(y_pred, y_gt)\r\n",
        "print(\"accuracy: %.2f\" %acc)"
      ],
      "execution_count": 28,
      "outputs": [
        {
          "output_type": "stream",
          "text": [
            "(44005,) (44005,)\n",
            "accuracy: 0.90\n"
          ],
          "name": "stdout"
        }
      ]
    },
    {
      "cell_type": "markdown",
      "metadata": {
        "id": "UE93-1ZKJ1d-"
      },
      "source": [
        "**Step-8**: Let's also measure the inference time on the CPU device:"
      ]
    },
    {
      "cell_type": "code",
      "metadata": {
        "id": "YnYzhL3uJ4il",
        "outputId": "cbbb8f51-1166-4e9f-c9cc-88be55b3a6d5",
        "colab": {
          "base_uri": "https://localhost:8080/"
        }
      },
      "source": [
        "# deploy model on cpu\r\n",
        "device_cpu = torch.device(\"cpu\")\r\n",
        "y_out, y_gt=deploy_model(cnn_model, val_ds, device=device_cpu, sanity_check=False)\r\n",
        "print(y_out.shape, y_gt.shape)"
      ],
      "execution_count": 29,
      "outputs": [
        {
          "output_type": "stream",
          "text": [
            "average inference time per image on cpu: 2.03 ms \n",
            "(44005, 2) (44005,)\n"
          ],
          "name": "stdout"
        }
      ]
    },
    {
      "cell_type": "markdown",
      "metadata": {
        "id": "ONfaEzcIKL5S"
      },
      "source": [
        "## Model inference on test data"
      ]
    },
    {
      "cell_type": "markdown",
      "metadata": {
        "id": "UL79Hb3jKM2l"
      },
      "source": [
        "Similar to the validation data, we can deploy the model on the test dataset. The labels for the test dataset are not available. Therefore, we will not be able to evaluate the model performance on the test dataset."
      ]
    },
    {
      "cell_type": "markdown",
      "metadata": {
        "id": "aB-sA40-DiDS"
      },
      "source": [
        "### Getting ready"
      ]
    },
    {
      "cell_type": "markdown",
      "metadata": {
        "id": "bk9fw2gODjJw"
      },
      "source": [
        "Please make of copy of the `sample_submission.csv` file in the data folder and rename the copy `test_labels.csv`. We will use the image IDs in `test_labels.csv` in this section.\r\n",
        "\r\n",
        "We will deploy the model on the test dataset and create the submission file\r\n",
        "for Kaggle submission.\r\n",
        "\r\n",
        "**1.** First, let's load test_labels.csv"
      ]
    },
    {
      "cell_type": "code",
      "metadata": {
        "id": "2lKaTLZ6D9D_",
        "outputId": "393041e4-5724-46d4-be6d-131b23ce0e46",
        "colab": {
          "base_uri": "https://localhost:8080/",
          "height": 200
        }
      },
      "source": [
        "csv_path = \"./data/test_labels.csv\"\r\n",
        "\r\n",
        "labels_df = pd.read_csv(csv_path)\r\n",
        "labels_df.head()"
      ],
      "execution_count": 30,
      "outputs": [
        {
          "output_type": "execute_result",
          "data": {
            "text/html": [
              "<div>\n",
              "<style scoped>\n",
              "    .dataframe tbody tr th:only-of-type {\n",
              "        vertical-align: middle;\n",
              "    }\n",
              "\n",
              "    .dataframe tbody tr th {\n",
              "        vertical-align: top;\n",
              "    }\n",
              "\n",
              "    .dataframe thead th {\n",
              "        text-align: right;\n",
              "    }\n",
              "</style>\n",
              "<table border=\"1\" class=\"dataframe\">\n",
              "  <thead>\n",
              "    <tr style=\"text-align: right;\">\n",
              "      <th></th>\n",
              "      <th>id</th>\n",
              "      <th>label</th>\n",
              "    </tr>\n",
              "  </thead>\n",
              "  <tbody>\n",
              "    <tr>\n",
              "      <th>0</th>\n",
              "      <td>0b2ea2a822ad23fdb1b5dd26653da899fbd2c0d5</td>\n",
              "      <td>0</td>\n",
              "    </tr>\n",
              "    <tr>\n",
              "      <th>1</th>\n",
              "      <td>95596b92e5066c5c52466c90b69ff089b39f2737</td>\n",
              "      <td>0</td>\n",
              "    </tr>\n",
              "    <tr>\n",
              "      <th>2</th>\n",
              "      <td>248e6738860e2ebcf6258cdc1f32f299e0c76914</td>\n",
              "      <td>0</td>\n",
              "    </tr>\n",
              "    <tr>\n",
              "      <th>3</th>\n",
              "      <td>2c35657e312966e9294eac6841726ff3a748febf</td>\n",
              "      <td>0</td>\n",
              "    </tr>\n",
              "    <tr>\n",
              "      <th>4</th>\n",
              "      <td>145782eb7caa1c516acbe2eda34d9a3f31c41fd6</td>\n",
              "      <td>0</td>\n",
              "    </tr>\n",
              "  </tbody>\n",
              "</table>\n",
              "</div>"
            ],
            "text/plain": [
              "                                         id  label\n",
              "0  0b2ea2a822ad23fdb1b5dd26653da899fbd2c0d5      0\n",
              "1  95596b92e5066c5c52466c90b69ff089b39f2737      0\n",
              "2  248e6738860e2ebcf6258cdc1f32f299e0c76914      0\n",
              "3  2c35657e312966e9294eac6841726ff3a748febf      0\n",
              "4  145782eb7caa1c516acbe2eda34d9a3f31c41fd6      0"
            ]
          },
          "metadata": {
            "tags": []
          },
          "execution_count": 30
        }
      ]
    },
    {
      "cell_type": "markdown",
      "metadata": {
        "id": "GBc_IUwJVp9a"
      },
      "source": [
        "**2.** Create a dataset object for the test dataset:"
      ]
    },
    {
      "cell_type": "code",
      "metadata": {
        "id": "I5ysoqHDEfL7",
        "outputId": "af1e3a5e-74af-4d91-9514-d105903a36c5",
        "colab": {
          "base_uri": "https://localhost:8080/"
        }
      },
      "source": [
        "histo_test = HistoCancerDataset(data_dir, data_transformer, data_type=\"test\")\r\n",
        "print(len(histo_test))"
      ],
      "execution_count": 40,
      "outputs": [
        {
          "output_type": "stream",
          "text": [
            "57458\n"
          ],
          "name": "stdout"
        }
      ]
    },
    {
      "cell_type": "markdown",
      "metadata": {
        "id": "AvlNhhmyFAvz"
      },
      "source": [
        "**3.** Deploy the model on the test dataset:"
      ]
    },
    {
      "cell_type": "code",
      "metadata": {
        "id": "qa4QC946E8l_",
        "outputId": "11f08c6e-969e-4371-e86a-9a3c2ce7c161",
        "colab": {
          "base_uri": "https://localhost:8080/"
        }
      },
      "source": [
        "y_test_out, _ = deploy_model(cnn_model, histo_test, device, sanity_check=False)\r\n",
        "\r\n",
        "y_test_pred = np.argmax(y_test_out, axis=1)\r\n",
        "print(y_test_pred.shape)"
      ],
      "execution_count": 32,
      "outputs": [
        {
          "output_type": "stream",
          "text": [
            "average inference time per image on cuda: 0.83 ms \n",
            "(57458,)\n"
          ],
          "name": "stdout"
        }
      ]
    },
    {
      "cell_type": "markdown",
      "metadata": {
        "id": "vNGsYsj0Fo8b"
      },
      "source": [
        "**4.** Display a few images and predictions:"
      ]
    },
    {
      "cell_type": "code",
      "metadata": {
        "id": "CUXUODm8FcSS",
        "outputId": "2df1e003-19ab-46d8-e397-d2c0c5db40b0",
        "colab": {
          "base_uri": "https://localhost:8080/",
          "height": 241
        }
      },
      "source": [
        "np.random.seed(0)\r\n",
        "\r\n",
        "\r\n",
        "def show(img, y, color=False):\r\n",
        "    # convert tensor to numpy array\r\n",
        "    npimg = img.numpy()\r\n",
        "   \r\n",
        "    # Convert to H*W*C shape\r\n",
        "    npimg_tr=np.transpose(npimg, (1, 2, 0))\r\n",
        "    \r\n",
        "    if color==False:\r\n",
        "        npimg_tr=npimg_tr[:, :, 0]\r\n",
        "        plt.imshow(npimg_tr, interpolation='nearest', cmap=\"gray\")\r\n",
        "    else:\r\n",
        "        # display images\r\n",
        "        plt.imshow(npimg_tr, interpolation='nearest')\r\n",
        "    plt.title(\"label: \"+str(y))\r\n",
        "    \r\n",
        "grid_size=4\r\n",
        "rnd_inds=np.random.randint(0, len(histo_test), grid_size)\r\n",
        "print(\"image indices:\", rnd_inds)\r\n",
        "\r\n",
        "x_grid_test=[histo_test[i][0] for i in range(grid_size)]\r\n",
        "y_grid_test=[y_test_pred[i] for i in range(grid_size)]\r\n",
        "\r\n",
        "x_grid_test=utils.make_grid(x_grid_test, nrow=4, padding=2)\r\n",
        "print(x_grid_test.shape)\r\n",
        "\r\n",
        "plt.rcParams['figure.figsize'] = (10.0, 5)\r\n",
        "show(x_grid_test,y_grid_test)"
      ],
      "execution_count": 33,
      "outputs": [
        {
          "output_type": "stream",
          "text": [
            "image indices: [ 2732 43567 42613 52416]\n",
            "torch.Size([3, 100, 394])\n"
          ],
          "name": "stdout"
        },
        {
          "output_type": "display_data",
          "data": {
            "image/png": "[encoded data removed]",
            "text/plain": [
              "<Figure size 720x360 with 1 Axes>"
            ]
          },
          "metadata": {
            "tags": [],
            "needs_background": "light"
          }
        }
      ]
    },
    {
      "cell_type": "markdown",
      "metadata": {
        "id": "4SUutilaGe-O"
      },
      "source": [
        "## Kaggle Submission"
      ]
    },
    {
      "cell_type": "markdown",
      "metadata": {
        "id": "EavoxJQmGiCQ"
      },
      "source": [
        "First, extract the prediction probabilities from the outputs. Note that we perform the exponential function on the model outputs to convert them into probability values:"
      ]
    },
    {
      "cell_type": "code",
      "metadata": {
        "id": "VIein7qiGHNL",
        "outputId": "36aebe8b-17f8-480d-8ca1-6b2a65b36942",
        "colab": {
          "base_uri": "https://localhost:8080/"
        }
      },
      "source": [
        "print(y_test_out.shape)\r\n",
        "cancer_preds = np.exp(y_test_out[:, 1])\r\n",
        "print(cancer_preds.shape)"
      ],
      "execution_count": 34,
      "outputs": [
        {
          "output_type": "stream",
          "text": [
            "(57458, 2)\n",
            "(57458,)\n"
          ],
          "name": "stdout"
        }
      ]
    },
    {
      "cell_type": "markdown",
      "metadata": {
        "id": "JuepHSPlGwgB"
      },
      "source": [
        "Next, convert the prediction probabilities into a DataFrame and store them as a CSV file:"
      ]
    },
    {
      "cell_type": "code",
      "metadata": {
        "id": "a4xKxtMZGtiz",
        "outputId": "92c157fb-0fda-4d44-dabb-6fc8c49e06ea",
        "colab": {
          "base_uri": "https://localhost:8080/",
          "height": 218
        }
      },
      "source": [
        "# get test id's from the sample_submission.csv \r\n",
        "path2sampleSub = \"./data/\"+ \"sample_submission.csv\"\r\n",
        "\r\n",
        "# read sample submission\r\n",
        "sample_df = pd.read_csv(path2sampleSub)\r\n",
        "\r\n",
        "# get id column\r\n",
        "ids_list = list(sample_df.id)\r\n",
        "\r\n",
        "# convert predictions to to list\r\n",
        "pred_list = [p for p in cancer_preds]\r\n",
        "\r\n",
        "# create a dict of id and prediction\r\n",
        "pred_dic = dict((key[:-4], value) for (key, value) in zip(histo_test.filenames, pred_list))    \r\n",
        "\r\n",
        "\r\n",
        "# re-order predictions to match sample submission csv \r\n",
        "pred_list_sub = [pred_dic[id_] for id_ in ids_list]\r\n",
        "\r\n",
        "# create convert to data frame\r\n",
        "submission_df = pd.DataFrame({'id':ids_list,'label':pred_list_sub})\r\n",
        "\r\n",
        "# Export to csv\r\n",
        "if not os.path.exists(\"./submissions/\"):\r\n",
        "    os.makedirs(\"submissions/\")\r\n",
        "    print(\"submission folder created!\")\r\n",
        "    \r\n",
        "path2submission=\"./submissions/submission.csv\"\r\n",
        "submission_df.to_csv(path2submission, header=True, index=False)\r\n",
        "submission_df.head()"
      ],
      "execution_count": 41,
      "outputs": [
        {
          "output_type": "stream",
          "text": [
            "submission folder created!\n"
          ],
          "name": "stdout"
        },
        {
          "output_type": "execute_result",
          "data": {
            "text/html": [
              "<div>\n",
              "<style scoped>\n",
              "    .dataframe tbody tr th:only-of-type {\n",
              "        vertical-align: middle;\n",
              "    }\n",
              "\n",
              "    .dataframe tbody tr th {\n",
              "        vertical-align: top;\n",
              "    }\n",
              "\n",
              "    .dataframe thead th {\n",
              "        text-align: right;\n",
              "    }\n",
              "</style>\n",
              "<table border=\"1\" class=\"dataframe\">\n",
              "  <thead>\n",
              "    <tr style=\"text-align: right;\">\n",
              "      <th></th>\n",
              "      <th>id</th>\n",
              "      <th>label</th>\n",
              "    </tr>\n",
              "  </thead>\n",
              "  <tbody>\n",
              "    <tr>\n",
              "      <th>0</th>\n",
              "      <td>0b2ea2a822ad23fdb1b5dd26653da899fbd2c0d5</td>\n",
              "      <td>0.020257</td>\n",
              "    </tr>\n",
              "    <tr>\n",
              "      <th>1</th>\n",
              "      <td>95596b92e5066c5c52466c90b69ff089b39f2737</td>\n",
              "      <td>0.345728</td>\n",
              "    </tr>\n",
              "    <tr>\n",
              "      <th>2</th>\n",
              "      <td>248e6738860e2ebcf6258cdc1f32f299e0c76914</td>\n",
              "      <td>0.001162</td>\n",
              "    </tr>\n",
              "    <tr>\n",
              "      <th>3</th>\n",
              "      <td>2c35657e312966e9294eac6841726ff3a748febf</td>\n",
              "      <td>0.032256</td>\n",
              "    </tr>\n",
              "    <tr>\n",
              "      <th>4</th>\n",
              "      <td>145782eb7caa1c516acbe2eda34d9a3f31c41fd6</td>\n",
              "      <td>0.128556</td>\n",
              "    </tr>\n",
              "  </tbody>\n",
              "</table>\n",
              "</div>"
            ],
            "text/plain": [
              "                                         id     label\n",
              "0  0b2ea2a822ad23fdb1b5dd26653da899fbd2c0d5  0.020257\n",
              "1  95596b92e5066c5c52466c90b69ff089b39f2737  0.345728\n",
              "2  248e6738860e2ebcf6258cdc1f32f299e0c76914  0.001162\n",
              "3  2c35657e312966e9294eac6841726ff3a748febf  0.032256\n",
              "4  145782eb7caa1c516acbe2eda34d9a3f31c41fd6  0.128556"
            ]
          },
          "metadata": {
            "tags": []
          },
          "execution_count": 41
        }
      ]
    },
    {
      "cell_type": "code",
      "metadata": {
        "id": "8pEEfUwQHZ05",
        "outputId": "2cdace31-1f97-41ec-adb9-d5779266818f",
        "colab": {
          "base_uri": "https://localhost:8080/"
        }
      },
      "source": [
        "# submit the file to kaggle\r\n",
        "!kaggle competitions submit histopathologic-cancer-detection -f \"submission.csv\" -m 'Yeah! I submit my file through the Google Colab!'"
      ],
      "execution_count": 47,
      "outputs": [
        {
          "output_type": "stream",
          "text": [
            "Warning: Looks like you're using an outdated API Version, please consider updating (server 1.5.10 / client 1.5.6)\n",
            "100% 3.34M/3.34M [00:02<00:00, 1.45MB/s]\n",
            "Successfully submitted to Histopathologic Cancer Detection"
          ],
          "name": "stdout"
        }
      ]
    }
  ]
}